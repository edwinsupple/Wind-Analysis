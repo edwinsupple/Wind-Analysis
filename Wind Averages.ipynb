{
 "cells": [
  {
   "cell_type": "code",
   "execution_count": 8,
   "metadata": {},
   "outputs": [],
   "source": [
    "import numpy as np\n",
    "import matplotlib.pyplot as plt\n",
    "import datetime\n"
   ]
  },
  {
   "cell_type": "code",
   "execution_count": 90,
   "metadata": {},
   "outputs": [
    {
     "name": "stdout",
     "output_type": "stream",
     "text": [
      "[datetime.datetime(1, 1, 1, 2, 0) datetime.datetime(1, 1, 1, 4, 0)\n",
      " datetime.datetime(1, 1, 1, 6, 0) ... datetime.datetime(1, 12, 31, 18, 0)\n",
      " datetime.datetime(1, 12, 31, 20, 0) datetime.datetime(1, 12, 31, 22, 0)]\n",
      "[[  1.    1.    2.  ... 119.  191.    4.8]\n",
      " [  1.    1.    4.  ... 126.  194.    4.4]\n",
      " [  1.    1.    6.  ... 120.  194.    4.8]\n",
      " ...\n",
      " [ 12.   31.   18.  ... 195.  167.    2.2]\n",
      " [ 12.   31.   20.  ... 172.  191.    3.6]\n",
      " [ 12.   31.   22.  ... 134.  188.    4.1]]\n"
     ]
    }
   ],
   "source": [
    "filename = '2169715.csv'\n",
    "date = []\n",
    "data = []\n",
    "with open(filename) as f:\n",
    "    HEADER = np.array(f.readline())\n",
    "    \n",
    "    for line in f:\n",
    "        \n",
    "        dataline = f.readline()\n",
    "        if dataline != '':\n",
    "            dataline = dataline[:-1].replace('T',',').replace(':',',').replace('-',',',1).split(',')\n",
    "            dataline = list(map(float, dataline))\n",
    "            \n",
    "            time = datetime.datetime(1,int(dataline[0]),int(dataline[1]),int(dataline[2]),int(dataline[3]))\n",
    "            data.append(dataline)\n",
    "            date.append(time)\n",
    "            \n",
    "    #DATA = np.loadtxt(f, delimiter=',', dtype=np.dtype(float))\n",
    "\n",
    "DATA = np.array(data, dtype = float)\n",
    "DATE = np.array(date)\n",
    "print(DATE)\n",
    "print(DATA)"
   ]
  },
  {
   "cell_type": "code",
   "execution_count": 51,
   "metadata": {},
   "outputs": [
    {
     "name": "stdout",
     "output_type": "stream",
     "text": [
      "['01', '01', '01', '00', '00', '4.1', '24.8', '14.3', '26.3', '12.2', '39.9', '26.3', '19.1', '5', '478', '6', '117', '7.8', '113', '192', '4.6']\n",
      "0001-01-01 01:00:00\n"
     ]
    }
   ],
   "source": [
    "dataline = dataline[:-1].replace('T',',').replace('-',',').replace(':',',').split(',')\n",
    "\n",
    "print(dataline)\n",
    "time = datetime.datetime(1,int(dataline[0]),int(dataline[1]),int(dataline[2]),int(dataline[3]),int(dataline[4]))\n",
    "print(time)"
   ]
  },
  {
   "cell_type": "code",
   "execution_count": 4,
   "metadata": {},
   "outputs": [
    {
     "name": "stdout",
     "output_type": "stream",
     "text": [
      "DATE,HLY-DEWP-10PCTL,HLY-DEWP-90PCTL,HLY-DEWP-NORMAL,HLY-HIDX-NORMAL,HLY-TEMP-10PCTL,HLY-TEMP-90PCTL,HLY-TEMP-NORMAL,HLY-WCHL-NORMAL,HLY-WIND-1STDIR,HLY-WIND-1STPCT,HLY-WIND-2NDDIR,HLY-WIND-2NDPCT,HLY-WIND-AVGSPD,HLY-WIND-PCTCLM,HLY-WIND-VCTDIR,HLY-WIND-VCTSPD\n",
      "\n"
     ]
    }
   ],
   "source": [
    "print(HEADER)"
   ]
  },
  {
   "cell_type": "code",
   "execution_count": 122,
   "metadata": {},
   "outputs": [
    {
     "data": {
      "text/plain": [
       "21"
      ]
     },
     "execution_count": 122,
     "metadata": {},
     "output_type": "execute_result"
    }
   ],
   "source": [
    "len(DATA[1,:])"
   ]
  },
  {
   "cell_type": "code",
   "execution_count": 134,
   "metadata": {},
   "outputs": [
    {
     "data": {
      "text/plain": [
       "[<matplotlib.lines.Line2D at 0x2b63c795b48>]"
      ]
     },
     "execution_count": 134,
     "metadata": {},
     "output_type": "execute_result"
    },
    {
     "data": {
      "image/png": "[encoded data removed]",
      "text/plain": [
       "<Figure size 864x72 with 1 Axes>"
      ]
     },
     "metadata": {
      "needs_background": "light"
     },
     "output_type": "display_data"
    }
   ],
   "source": [
    "fig, ax = plt.subplots()\n",
    "ax.set_xlim(1,365)\n",
    "fig.set_size_inches(12, 1)\n",
    "ax.plot(DATE[:],DATA[:,17])\n",
    "\n"
   ]
  },
  {
   "cell_type": "code",
   "execution_count": null,
   "metadata": {},
   "outputs": [],
   "source": []
  }
 ],
 "metadata": {
  "kernelspec": {
   "display_name": "Python 3",
   "language": "python",
   "name": "python3"
  },
  "language_info": {
   "codemirror_mode": {
    "name": "ipython",
    "version": 3
   },
   "file_extension": ".py",
   "mimetype": "text/x-python",
   "name": "python",
   "nbconvert_exporter": "python",
   "pygments_lexer": "ipython3",
   "version": "3.7.6"
  }
 },
 "nbformat": 4,
 "nbformat_minor": 4
}
